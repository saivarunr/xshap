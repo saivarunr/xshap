{
 "cells": [
  {
   "cell_type": "markdown",
   "metadata": {},
   "source": [
    "# Explaining the Loss of a Tree Model\n",
    "\n",
    "Explaining the loss of a model can be very useful for debugging and model monitoring. This notebook gives a very simple example of how this works. Note that explaining the loss of a model requires passing the labels, and is only supported for the `feature_dependence=\"independent\"` option of TreeExplainer.\n",
    "\n",
    "This notebook will be fleshed out once we post a full write-up of this method."
   ]
  },
  {
   "cell_type": "code",
   "execution_count": 1,
   "metadata": {},
   "outputs": [],
   "source": [
    "import shap\n",
    "import sklearn\n",
    "import xgboost\n",
    "import numpy as np"
   ]
  },
  {
   "cell_type": "markdown",
   "metadata": {},
   "source": [
    "### Train an XGBoost Classifier"
   ]
  },
  {
   "cell_type": "code",
   "execution_count": 2,
   "metadata": {},
   "outputs": [
    {
     "data": {
      "text/plain": [
       "array([0.08443378, 0.45300266, 0.03874125, 0.11340553, 0.67350864,\n",
       "       1.41265261, 0.00916297, 0.91732287, 0.01906859, 0.07444511])"
      ]
     },
     "execution_count": 2,
     "metadata": {},
     "output_type": "execute_result"
    }
   ],
   "source": [
    "X,y = shap.datasets.adult()\n",
    "\n",
    "model = xgboost.XGBClassifier()\n",
    "model.fit(X,y)\n",
    "\n",
    "# compute the logistic log-loss\n",
    "model_loss = -np.log(model.predict_proba(X)[:,1]) * y + -np.log(model.predict_proba(X)[:,0]) * (1-y)\n",
    "\n",
    "model_loss[:10]"
   ]
  },
  {
   "cell_type": "markdown",
   "metadata": {},
   "source": [
    "### Explain the Log-Loss of the Model with TreeExplainer\n",
    "\n",
    "Note that the `expected_value` of the model's loss depends on the label and so it is now a function instead of a single number."
   ]
  },
  {
   "cell_type": "code",
   "execution_count": 3,
   "metadata": {},
   "outputs": [
    {
     "data": {
      "text/plain": [
       "array([0.08443378, 0.45300268, 0.03874123, 0.11340551, 0.67350869,\n",
       "       1.41265219, 0.00916299, 0.9173229 , 0.01906863, 0.07444508])"
      ]
     },
     "execution_count": 3,
     "metadata": {},
     "output_type": "execute_result"
    }
   ],
   "source": [
    "explainer = shap.TreeExplainer(model, X, feature_dependence=\"independent\", model_output=\"logloss\")\n",
    "explainer.shap_values(X.iloc[:10,:], y[:10]).sum(1) + np.array([explainer.expected_value(v) for v in y[:10]])"
   ]
  }
 ],
 "metadata": {
  "kernelspec": {
   "display_name": "Python 3",
   "language": "python",
   "name": "python3"
  },
  "language_info": {
   "codemirror_mode": {
    "name": "ipython",
    "version": 3
   },
   "file_extension": ".py",
   "mimetype": "text/x-python",
   "name": "python",
   "nbconvert_exporter": "python",
   "pygments_lexer": "ipython3",
   "version": "3.6.5"
  }
 },
 "nbformat": 4,
 "nbformat_minor": 2
}
