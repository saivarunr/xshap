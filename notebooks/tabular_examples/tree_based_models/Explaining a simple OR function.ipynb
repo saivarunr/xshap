{
 "cells": [
  {
   "cell_type": "markdown",
   "metadata": {},
   "source": [
    "# Explaining a simple OR function\n",
    "\n",
    "This notebook examines what it looks like to explain an OR function using SHAP values. It is based on a simple example with two features `is_young` and `is_female`, roughly motivated by the Titanic survival dataset where women and children were given priority during the evacuation and so were more likely to survive. In this simulated example this effect is taken to the extreme, where all children and women survive and no adult men survive."
   ]
  },
  {
   "cell_type": "code",
   "execution_count": 2,
   "metadata": {},
   "outputs": [],
   "source": [
    "import numpy as np\n",
    "import xgboost\n",
    "import shap"
   ]
  },
  {
   "cell_type": "markdown",
   "metadata": {},
   "source": [
    "### Create a dataset following an OR function"
   ]
  },
  {
   "cell_type": "code",
   "execution_count": 3,
   "metadata": {},
   "outputs": [],
   "source": [
    "N = 40000\n",
    "M = 2\n",
    "\n",
    "# randomly create binary features for (is_young, and is_female)\n",
    "X = (np.random.randn(N,2) > 0) * 1\n",
    "\n",
    "# force the first sample to be a young boy\n",
    "X[0,0] = 1\n",
    "X[0,1] = 0\n",
    "\n",
    "# you survive only if you are young or female\n",
    "y = ((X[:,0] + X[:,1]) > 0) * 1"
   ]
  },
  {
   "cell_type": "markdown",
   "metadata": {},
   "source": [
    "### Train an XGBoost model to mimic this OR function"
   ]
  },
  {
   "cell_type": "code",
   "execution_count": 4,
   "metadata": {},
   "outputs": [
    {
     "name": "stdout",
     "output_type": "stream",
     "text": [
      "[21:39:39] WARNING: src/objective/regression_obj.cu:152: reg:linear is now deprecated in favor of reg:squarederror.\n"
     ]
    },
    {
     "data": {
      "text/plain": [
       "array([9.9998689e-01, 9.9998689e-01, 1.3232231e-05, ..., 9.9998701e-01,\n",
       "       1.3232231e-05, 9.9998701e-01], dtype=float32)"
      ]
     },
     "execution_count": 4,
     "metadata": {},
     "output_type": "execute_result"
    }
   ],
   "source": [
    "model = xgboost.XGBRegressor(n_estimators=100, learning_rate=0.1)\n",
    "model.fit(X, y)\n",
    "model.predict(X)"
   ]
  },
  {
   "cell_type": "markdown",
   "metadata": {},
   "source": [
    "## Explain the prediction for a young boy\n",
    "\n",
    "### Using the training set for the background distribution\n",
    "\n",
    "Note that in the example explanation below `is_young = True` has a positive value (meaning it increases the model output, and hence the prediction of survival), while `is_female = False` has a negative value (meaning it decreases the model output). While one could argue that `is_female = False` should have no impact because we already know that the person is young, SHAP values account for the impact a feature has even when we don't nessecarily know the other features, which is why `is_female = False` still has a negative impact on the prediction."
   ]
  },
  {
   "cell_type": "code",
   "execution_count": 5,
   "metadata": {},
   "outputs": [
    {
     "name": "stdout",
     "output_type": "stream",
     "text": [
      "explainer.expected_value: 0.7507\n",
      "SHAP values for (is_young = True, is_female = False): [ 0.3761 -0.1268]\n",
      "model output: 1.0\n"
     ]
    }
   ],
   "source": [
    "explainer = shap.TreeExplainer(model, X, feature_dependence=\"independent\")\n",
    "shap_values = explainer.shap_values(X[:1,:])\n",
    "print(\"explainer.expected_value:\", explainer.expected_value.round(4))\n",
    "print(\"SHAP values for (is_young = True, is_female = False):\", shap_values[0].round(4))\n",
    "print(\"model output:\", (explainer.expected_value + shap_values[0].sum()).round(4))"
   ]
  },
  {
   "cell_type": "markdown",
   "metadata": {},
   "source": [
    "### Using only negative examples for the background distribution\n",
    "\n",
    "The point of this second explanation example is to demonstrate how using a different background distribution can change the allocation of credit among the input features. This happens because we are now comparing the importance of a feature as compared to being someone who died (an adult man). The only thing different about the young boy from someone who died is that the boy is young, so all the credit goes to the `is_young = True` feature.\n",
    "\n",
    "This highlights that often explanations are clearer when a well defined background group is used. In this case it changes the explanation from how this sample is different than typical, to how this sample is different from those who died (in other words, why did you live?)."
   ]
  },
  {
   "cell_type": "code",
   "execution_count": 6,
   "metadata": {
    "scrolled": true
   },
   "outputs": [
    {
     "name": "stdout",
     "output_type": "stream",
     "text": [
      "explainer.expected_value: 0.0\n",
      "SHAP values for (is_young = True, is_female = False): [1. 0.]\n",
      "model output: 1.0\n"
     ]
    }
   ],
   "source": [
    "explainer = shap.TreeExplainer(model, X[y == 0,:], feature_dependence=\"independent\")\n",
    "shap_values = explainer.shap_values(X[:1,:])\n",
    "print(\"explainer.expected_value:\", explainer.expected_value.round(4))\n",
    "print(\"SHAP values for (is_young = True, is_female = False):\", shap_values[0].round(4))\n",
    "print(\"model output:\", (explainer.expected_value + shap_values[0].sum()).round(4))"
   ]
  },
  {
   "cell_type": "markdown",
   "metadata": {},
   "source": [
    "### Using only positive examples for the background distribution\n",
    "\n",
    "We could also use only positive examples for our background distribution, and since the difference between the expected output of the model (under our background distribution) and the current output for the young boy is zero, the sum of the SHAP values will be also be zero."
   ]
  },
  {
   "cell_type": "code",
   "execution_count": 7,
   "metadata": {
    "scrolled": true
   },
   "outputs": [
    {
     "name": "stdout",
     "output_type": "stream",
     "text": [
      "explainer.expected_value: 1.0\n",
      "SHAP values for (is_young = True, is_female = False): [ 0.1689 -0.1689]\n",
      "model output: 1.0\n"
     ]
    }
   ],
   "source": [
    "explainer = shap.TreeExplainer(model, X[y == 1,:], feature_dependence=\"independent\")\n",
    "shap_values = explainer.shap_values(X[:1,:])\n",
    "print(\"explainer.expected_value:\", explainer.expected_value.round(4))\n",
    "print(\"SHAP values for (is_young = True, is_female = False):\", shap_values[0].round(4))\n",
    "print(\"model output:\", (explainer.expected_value + shap_values[0].sum()).round(4))"
   ]
  },
  {
   "cell_type": "markdown",
   "metadata": {},
   "source": [
    "### Using young women for the background distribution\n",
    "\n",
    "If we compare the sample to young women then neither of the features matter except for adult men, in which both features are given equal credit for their death (as one might intuitively expect)."
   ]
  },
  {
   "cell_type": "code",
   "execution_count": 8,
   "metadata": {},
   "outputs": [
    {
     "data": {
      "text/plain": [
       "array([[ 0. , -0. ],\n",
       "       [ 0. , -0. ],\n",
       "       [-0.5, -0.5]])"
      ]
     },
     "execution_count": 8,
     "metadata": {},
     "output_type": "execute_result"
    }
   ],
   "source": [
    "explainer = shap.TreeExplainer(model, np.ones((1,M)), feature_dependence=\"independent\")\n",
    "shap_values = explainer.shap_values(X[:10,:])\n",
    "shap_values[0:3].round(4)"
   ]
  }
 ],
 "metadata": {
  "kernelspec": {
   "display_name": "Python 3",
   "language": "python",
   "name": "python3"
  },
  "language_info": {
   "codemirror_mode": {
    "name": "ipython",
    "version": 3
   },
   "file_extension": ".py",
   "mimetype": "text/x-python",
   "name": "python",
   "nbconvert_exporter": "python",
   "pygments_lexer": "ipython3",
   "version": "3.7.3"
  }
 },
 "nbformat": 4,
 "nbformat_minor": 1
}
